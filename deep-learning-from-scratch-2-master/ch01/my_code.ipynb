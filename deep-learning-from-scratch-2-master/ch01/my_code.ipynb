{
 "cells": [
  {
   "cell_type": "markdown",
   "metadata": {},
   "source": [
    "## NNの構造把握"
   ]
  },
  {
   "cell_type": "code",
   "execution_count": 4,
   "metadata": {},
   "outputs": [],
   "source": [
    "#線形変換の例\n",
    "import numpy as np\n",
    "W1 = np.random.randn(2, 4)\n",
    "b1 = np.random.randn(4)\n",
    "x = np.random.randn(10, 2)\n",
    "h = np.dot(x, W1)+b1\n",
    "\n",
    "# print(f\"W1={W1}\")\n",
    "# print(f\"b1={b1}\")\n",
    "# print(f\"x={x}\")\n",
    "# print(f\"h={h}\")"
   ]
  },
  {
   "cell_type": "markdown",
   "metadata": {},
   "source": [
    "活性化関数"
   ]
  },
  {
   "cell_type": "code",
   "execution_count": 7,
   "metadata": {},
   "outputs": [],
   "source": [
    "#シグモイド関数\n",
    "def sigmoid(x):\n",
    "    return 1/(1+np.exp(-x))"
   ]
  },
  {
   "cell_type": "code",
   "execution_count": 13,
   "metadata": {},
   "outputs": [],
   "source": [
    "#入力\n",
    "x = np.random.randn(10, 2)\n",
    "#重み，バイサスの設定\n",
    "W1 = np.random.randn(2, 4)\n",
    "b1 = np.random.randn(4)\n",
    "W2 = np.random.randn(4, 3)\n",
    "b2 = np.random.randn(3)\n",
    "#推論\n",
    "h = np.dot(x, W1)+b1\n",
    "a = sigmoid(h)\n",
    "s = np.dot(a, W2) + b2\n",
    "# print(s)"
   ]
  },
  {
   "cell_type": "markdown",
   "metadata": {},
   "source": [
    "レイヤとしてのクラス化と順伝播の実装"
   ]
  },
  {
   "cell_type": "code",
   "execution_count": 14,
   "metadata": {},
   "outputs": [],
   "source": [
    "class Sigmoid:\n",
    "    def __init__(self):\n",
    "        self.params = []\n",
    "    def forward(self, x):\n",
    "        return 1/(1+np.exp(-x))"
   ]
  },
  {
   "cell_type": "code",
   "execution_count": 15,
   "metadata": {},
   "outputs": [],
   "source": [
    "class Affine:\n",
    "    def __init__(self, W, b):\n",
    "        self.params = [W, b]\n",
    "    def forward(self, x):\n",
    "        W, b = self.params\n",
    "        out = np.dot(x, W) + b\n",
    "        return out"
   ]
  },
  {
   "cell_type": "markdown",
   "metadata": {},
   "source": [
    "2層のNNを構築"
   ]
  },
  {
   "cell_type": "code",
   "execution_count": 16,
   "metadata": {},
   "outputs": [],
   "source": [
    "class TwoLayerNet:\n",
    "    def __init__(self, input_size, hidden_size, output_size):\n",
    "        I, H, O = input_size, hidden_size, output_size\n",
    "\n",
    "        #重みとバイアスの初期化\n",
    "        W1 = np.random.randn(I, H)\n",
    "        b1 = np.random.randn(H)\n",
    "        W2 = np.random.randn(H, O)\n",
    "        b2 = np.random.randn(O)\n",
    "\n",
    "        #レイヤの生成\n",
    "        self.layers = [\n",
    "            Affine(W1, b1),\n",
    "            Sigmoid(),\n",
    "            Affine(W2, b2)\n",
    "        ]\n",
    "\n",
    "        #すべての重みをリストにまとめる\n",
    "        self.params = []\n",
    "        for layer in self.layers:\n",
    "            self.params += layer.params\n",
    "    \n",
    "    def predict(self, x):\n",
    "        for layer in self.layers:\n",
    "            x = layer.forward(x)\n",
    "        return x"
   ]
  },
  {
   "cell_type": "code",
   "execution_count": 17,
   "metadata": {},
   "outputs": [
    {
     "name": "stdout",
     "output_type": "stream",
     "text": [
      "['A', 'B', 'C', 'D']\n"
     ]
    }
   ],
   "source": [
    "#リスト同士の連結\n",
    "a=['A', 'B']\n",
    "a += ['C', 'D']\n",
    "print(a)"
   ]
  },
  {
   "cell_type": "markdown",
   "metadata": {},
   "source": [
    "推論の実行"
   ]
  },
  {
   "cell_type": "code",
   "execution_count": 25,
   "metadata": {},
   "outputs": [],
   "source": [
    "x = np.random.randn(10,2)\n",
    "model = TwoLayerNet(2, 4, 3)\n",
    "s = model.predict(x)"
   ]
  },
  {
   "cell_type": "markdown",
   "metadata": {},
   "source": [
    "#### 損失関数の実装"
   ]
  },
  {
   "cell_type": "markdown",
   "metadata": {},
   "source": [
    "クロスエントロピー損失"
   ]
  },
  {
   "cell_type": "code",
   "execution_count": 47,
   "metadata": {},
   "outputs": [],
   "source": [
    "class Softmax:\n",
    "    def __init__(self):\n",
    "        self.params=[]\n",
    "    def forward(self, x):\n",
    "        sum = np.sum(np.exp(x), axis=1)\n",
    "        y = np.exp(x)/sum[: , np.newaxis]\n",
    "        return y"
   ]
  },
  {
   "cell_type": "code",
   "execution_count": 46,
   "metadata": {},
   "outputs": [
    {
     "name": "stdout",
     "output_type": "stream",
     "text": [
      "[ 9.44696686  9.89291697  9.34815466  9.61265094 10.07393199  9.52339523\n",
      "  9.44648974  9.94757747  9.39367328  9.62302867]\n",
      "[[0.80593051 0.02854737 0.16552212]\n",
      " [0.83507515 0.03005032 0.13487452]\n",
      " [0.78656524 0.02853437 0.18490039]\n",
      " [0.83290048 0.02813591 0.13896361]\n",
      " [0.86446992 0.02828223 0.10724785]\n",
      " [0.81583645 0.02861513 0.15554842]\n",
      " [0.81294782 0.02817586 0.15887632]\n",
      " [0.86297153 0.02759794 0.10943053]\n",
      " [0.76878678 0.02937214 0.20184108]\n",
      " [0.83166971 0.02831046 0.14001983]]\n"
     ]
    }
   ],
   "source": [
    "softmax = Softmax()\n",
    "y = softmax.forward(s)\n",
    "print(y)"
   ]
  },
  {
   "cell_type": "markdown",
   "metadata": {},
   "source": [
    "#### MatMulノード"
   ]
  },
  {
   "cell_type": "code",
   "execution_count": null,
   "metadata": {},
   "outputs": [],
   "source": [
    "class MatMul:\n",
    "    def __init__(self, W):\n",
    "        self.params = [W]\n",
    "        self.grads = [np.zeros_like(W)]\n",
    "        self.x = None\n",
    "    def forward(self, x):\n",
    "        W, = self.params\n",
    "        out = np.dot(x, W)\n",
    "        self.x = x\n",
    "        return out\n",
    "    \n",
    "    def backward(self, dout):\n",
    "        W, =self.params\n",
    "        dx = np.dot(dout, W.T)\n",
    "        dW = np.dot(self.x.T, dout)\n",
    "        self.grads[0][...] = dW\n",
    "        return dx"
   ]
  },
  {
   "cell_type": "markdown",
   "metadata": {},
   "source": [
    "#### Sigmoidレイヤー"
   ]
  },
  {
   "cell_type": "code",
   "execution_count": 48,
   "metadata": {},
   "outputs": [],
   "source": [
    "class Sigmoid:\n",
    "    def __init__(self):\n",
    "        self.params, self.grads = [],[]\n",
    "        self.out = None\n",
    "    \n",
    "    def forward(self, x):\n",
    "        out = 1/(1+np.exp(x))\n",
    "        self.out = out\n",
    "        return out\n",
    "    \n",
    "    def backward(self, dout):\n",
    "        dx = dout*(1.0-self.out)*self.out\n",
    "        return dx"
   ]
  },
  {
   "cell_type": "markdown",
   "metadata": {},
   "source": [
    "#### Affineレイヤ"
   ]
  },
  {
   "cell_type": "code",
   "execution_count": 49,
   "metadata": {},
   "outputs": [],
   "source": [
    "class Affine:\n",
    "    def __init__(self, W, b):\n",
    "        self.params = [W, b]\n",
    "        self.grads = [np.zeros_like(W), np.zeros_like(b)]\n",
    "        self.x = None\n",
    "\n",
    "    def forward(self, x):\n",
    "        W, b = self.params\n",
    "        out = np.dot(x, W) + b\n",
    "        self.x = x\n",
    "        return out\n",
    "    \n",
    "    def backward(self, dout):\n",
    "        W, b = self.params\n",
    "        dx = np.dot(dout, W.T)\n",
    "        dw = np.dot(self.x.T, dout)\n",
    "        db = np.sum(dout, axis=0)\n",
    "\n",
    "        self.grads[0][...] = dw\n",
    "        self.grads[1][...] = db\n",
    "        return dx"
   ]
  },
  {
   "cell_type": "markdown",
   "metadata": {},
   "source": [
    "### 最適化手法"
   ]
  },
  {
   "cell_type": "markdown",
   "metadata": {},
   "source": [
    "#### SGDの実装"
   ]
  },
  {
   "cell_type": "code",
   "execution_count": 50,
   "metadata": {},
   "outputs": [],
   "source": [
    "class SGD:\n",
    "    def __init__(self, lr=0.01):\n",
    "        self.lr = lr\n",
    "    \n",
    "    def update(self, params, grads):\n",
    "        for i in range(len(params)):\n",
    "            params[i] -= self.lr*grads[i]"
   ]
  },
  {
   "cell_type": "markdown",
   "metadata": {},
   "source": [
    "### ニューラルネットワークの実装"
   ]
  },
  {
   "cell_type": "code",
   "execution_count": null,
   "metadata": {},
   "outputs": [],
   "source": [
    "import sys\n",
    "sys.path.append('..')\n",
    "import numpy as np\n",
    "from common.layers import Affine, Sigmoid, SoftmaxWithLoss\n",
    "\n",
    "class TwoLayerNet:\n",
    "    def __init__(self, input_size, hidden_size, output_size):\n",
    "        I, H, O = input_size, hidden_size, output_size\n",
    "\n",
    "        #重みとバイアスの初期化\n",
    "        W1 = np.random.randn(I, H)\n",
    "        b1 = np.random.randn(H)\n",
    "        W2 = np.random.randn(H, O)\n",
    "        b2 = np.random.randn(O)\n",
    "\n",
    "        #レイヤの生成\n",
    "        self.layers = [\n",
    "            Affine(W1, b1),\n",
    "            Sigmoid(),\n",
    "            Affine(W2, b2)\n",
    "        ]\n",
    "        self.loss_layer = SoftmaxWithLoss()\n",
    "\n",
    "        #すべての重みと勾配をリストにまとめる\n",
    "        self.params, self.grads = [], []\n",
    "        for layer in self.layers:\n",
    "            self.params += layer.params\n",
    "            self.grads += layer.grads\n",
    "    \n",
    "    def predict(self, x):\n",
    "        for layer in self.layers:\n",
    "            x = layer.forward(x)\n",
    "        return x\n",
    "\n",
    "    def forward(self, x, t):\n",
    "        score = self.predict(x)\n",
    "        loss = self.loss_layer.forward(score, t)\n",
    "        return loss\n",
    "    \n",
    "    def backward(self, dout=1):\n",
    "        dout = self.loss_layer.backward(dout)\n",
    "        for layer in reversed(self.layers):\n",
    "            dout = layer.backward(dout)\n",
    "        return dout\n",
    "        "
   ]
  },
  {
   "cell_type": "markdown",
   "metadata": {},
   "source": [
    "### 学習用のソースコード"
   ]
  },
  {
   "cell_type": "code",
   "execution_count": 56,
   "metadata": {},
   "outputs": [],
   "source": [
    "import sys\n",
    "sys.path.append('..')\n",
    "import numpy as np\n",
    "from common.optimizer import SGD\n",
    "from dataset import spiral\n",
    "import matplotlib.pyplot as plt\n",
    "from two_layer_net import TwoLayerNet"
   ]
  },
  {
   "cell_type": "code",
   "execution_count": 57,
   "metadata": {},
   "outputs": [],
   "source": [
    "#ハイパーパラメータの設定\n",
    "max_epoch = 300\n",
    "batch_size = 30\n",
    "hidden_size = 10\n",
    "learning_rate = 1.0"
   ]
  },
  {
   "cell_type": "code",
   "execution_count": 58,
   "metadata": {},
   "outputs": [],
   "source": [
    "#データの読み込み，モデルとオプティマイザの生成\n",
    "x, t = spiral.load_data()\n",
    "model = TwoLayerNet(input_size=2, hidden_size=hidden_size, output_size=3)\n",
    "optimizer = SGD(lr=learning_rate)"
   ]
  },
  {
   "cell_type": "code",
   "execution_count": 59,
   "metadata": {},
   "outputs": [
    {
     "name": "stdout",
     "output_type": "stream",
     "text": [
      "|epoch 1| iter10/10|loss 1.1256062166823237\n",
      "|epoch 2| iter10/10|loss 1.1255202354489933\n",
      "|epoch 3| iter10/10|loss 1.1162613752115285\n",
      "|epoch 4| iter10/10|loss 1.1162867078413503\n",
      "|epoch 5| iter10/10|loss 1.1123000112951948\n",
      "|epoch 6| iter10/10|loss 1.1384639824108038\n",
      "|epoch 7| iter10/10|loss 1.1590961883070312\n",
      "|epoch 8| iter10/10|loss 1.1086316143023154\n",
      "|epoch 9| iter10/10|loss 1.1173305676924539\n",
      "|epoch 10| iter10/10|loss 1.1287957712269248\n",
      "|epoch 11| iter10/10|loss 1.1168438089353867\n",
      "|epoch 12| iter10/10|loss 1.108338779101816\n",
      "|epoch 13| iter10/10|loss 1.087614920049946\n",
      "|epoch 14| iter10/10|loss 1.076681386581935\n",
      "|epoch 15| iter10/10|loss 1.0442376735950387\n",
      "|epoch 16| iter10/10|loss 1.0345782626337772\n",
      "|epoch 17| iter10/10|loss 0.9572932039643971\n",
      "|epoch 18| iter10/10|loss 0.9183853210879448\n",
      "|epoch 19| iter10/10|loss 0.9241491096212101\n",
      "|epoch 20| iter10/10|loss 0.8685139076509193\n",
      "|epoch 21| iter10/10|loss 0.849380704784154\n",
      "|epoch 22| iter10/10|loss 0.8171629191788112\n",
      "|epoch 23| iter10/10|loss 0.7924414711357766\n",
      "|epoch 24| iter10/10|loss 0.7826646392986112\n",
      "|epoch 25| iter10/10|loss 0.8235432039035638\n",
      "|epoch 26| iter10/10|loss 0.7754573601774306\n",
      "|epoch 27| iter10/10|loss 0.7557857636797779\n",
      "|epoch 28| iter10/10|loss 0.7644773546985875\n",
      "|epoch 29| iter10/10|loss 0.783489908441849\n",
      "|epoch 30| iter10/10|loss 0.7507895610696304\n",
      "|epoch 31| iter10/10|loss 0.7773067036165258\n",
      "|epoch 32| iter10/10|loss 0.7650839562418821\n",
      "|epoch 33| iter10/10|loss 0.7727897179944694\n",
      "|epoch 34| iter10/10|loss 0.7819402998382252\n",
      "|epoch 35| iter10/10|loss 0.7479802970891093\n",
      "|epoch 36| iter10/10|loss 0.7449918634368046\n",
      "|epoch 37| iter10/10|loss 0.7560347486336814\n",
      "|epoch 38| iter10/10|loss 0.762136567723541\n",
      "|epoch 39| iter10/10|loss 0.7308895411004578\n",
      "|epoch 40| iter10/10|loss 0.7530268898576871\n",
      "|epoch 41| iter10/10|loss 0.7598416342022494\n",
      "|epoch 42| iter10/10|loss 0.7594443798911803\n",
      "|epoch 43| iter10/10|loss 0.7609245612331736\n",
      "|epoch 44| iter10/10|loss 0.7385235003122191\n",
      "|epoch 45| iter10/10|loss 0.7483287079215573\n",
      "|epoch 46| iter10/10|loss 0.7322123222567571\n",
      "|epoch 47| iter10/10|loss 0.7226947264484566\n",
      "|epoch 48| iter10/10|loss 0.7329453633807874\n",
      "|epoch 49| iter10/10|loss 0.7228591003722222\n",
      "|epoch 50| iter10/10|loss 0.7225109819294905\n",
      "|epoch 51| iter10/10|loss 0.7151355271138071\n",
      "|epoch 52| iter10/10|loss 0.7195462325887141\n",
      "|epoch 53| iter10/10|loss 0.7375188235491986\n",
      "|epoch 54| iter10/10|loss 0.7361580823220941\n",
      "|epoch 55| iter10/10|loss 0.7224648808897995\n",
      "|epoch 56| iter10/10|loss 0.7182891638960813\n",
      "|epoch 57| iter10/10|loss 0.7074840271194414\n",
      "|epoch 58| iter10/10|loss 0.7004036126944775\n",
      "|epoch 59| iter10/10|loss 0.7172821745385196\n",
      "|epoch 60| iter10/10|loss 0.7014167269154442\n",
      "|epoch 61| iter10/10|loss 0.7139798052248814\n",
      "|epoch 62| iter10/10|loss 0.7158390973991745\n",
      "|epoch 63| iter10/10|loss 0.70241458479173\n",
      "|epoch 64| iter10/10|loss 0.7147655630827305\n",
      "|epoch 65| iter10/10|loss 0.7258385981107363\n",
      "|epoch 66| iter10/10|loss 0.6991952628756113\n",
      "|epoch 67| iter10/10|loss 0.7149037812469097\n",
      "|epoch 68| iter10/10|loss 0.6923793329208151\n",
      "|epoch 69| iter10/10|loss 0.6950715496129249\n",
      "|epoch 70| iter10/10|loss 0.7051743201139317\n",
      "|epoch 71| iter10/10|loss 0.681889220127928\n",
      "|epoch 72| iter10/10|loss 0.693108123619465\n",
      "|epoch 73| iter10/10|loss 0.6678843529136957\n",
      "|epoch 74| iter10/10|loss 0.6795690012595998\n",
      "|epoch 75| iter10/10|loss 0.669691878190896\n",
      "|epoch 76| iter10/10|loss 0.6601032915888685\n",
      "|epoch 77| iter10/10|loss 0.6948944014779304\n",
      "|epoch 78| iter10/10|loss 0.6448714009948227\n",
      "|epoch 79| iter10/10|loss 0.6797970357896563\n",
      "|epoch 80| iter10/10|loss 0.6389928717097749\n",
      "|epoch 81| iter10/10|loss 0.6352100394457478\n",
      "|epoch 82| iter10/10|loss 0.6642182679001871\n",
      "|epoch 83| iter10/10|loss 0.6194764020308776\n",
      "|epoch 84| iter10/10|loss 0.6229674573767079\n",
      "|epoch 85| iter10/10|loss 0.612510770651763\n",
      "|epoch 86| iter10/10|loss 0.5971911133520722\n",
      "|epoch 87| iter10/10|loss 0.5988198466130638\n",
      "|epoch 88| iter10/10|loss 0.6083885307835821\n",
      "|epoch 89| iter10/10|loss 0.588113209240798\n",
      "|epoch 90| iter10/10|loss 0.5773251645421085\n",
      "|epoch 91| iter10/10|loss 0.5573829192639735\n",
      "|epoch 92| iter10/10|loss 0.5604590214222992\n",
      "|epoch 93| iter10/10|loss 0.5448990532547207\n",
      "|epoch 94| iter10/10|loss 0.5286015850570888\n",
      "|epoch 95| iter10/10|loss 0.5299314123468266\n",
      "|epoch 96| iter10/10|loss 0.5163065862636671\n",
      "|epoch 97| iter10/10|loss 0.512430857915935\n",
      "|epoch 98| iter10/10|loss 0.5016440362124133\n",
      "|epoch 99| iter10/10|loss 0.4844736823098777\n",
      "|epoch 100| iter10/10|loss 0.48000592169629297\n",
      "|epoch 101| iter10/10|loss 0.4609934880592174\n",
      "|epoch 102| iter10/10|loss 0.4540219760066977\n",
      "|epoch 103| iter10/10|loss 0.4535714177590585\n",
      "|epoch 104| iter10/10|loss 0.44299294652693855\n",
      "|epoch 105| iter10/10|loss 0.4361554171427489\n",
      "|epoch 106| iter10/10|loss 0.4104934801188964\n",
      "|epoch 107| iter10/10|loss 0.4031641890220188\n",
      "|epoch 108| iter10/10|loss 0.40761126822255767\n",
      "|epoch 109| iter10/10|loss 0.4036238903780622\n",
      "|epoch 110| iter10/10|loss 0.3995146952313422\n",
      "|epoch 111| iter10/10|loss 0.3792167407782226\n",
      "|epoch 112| iter10/10|loss 0.3750471397806638\n",
      "|epoch 113| iter10/10|loss 0.36229498494049495\n",
      "|epoch 114| iter10/10|loss 0.36757104398082374\n",
      "|epoch 115| iter10/10|loss 0.34616510526107824\n",
      "|epoch 116| iter10/10|loss 0.3448980002901156\n",
      "|epoch 117| iter10/10|loss 0.33528933507000974\n",
      "|epoch 118| iter10/10|loss 0.33807418815033236\n",
      "|epoch 119| iter10/10|loss 0.3283438143916967\n",
      "|epoch 120| iter10/10|loss 0.3351965821052375\n",
      "|epoch 121| iter10/10|loss 0.31583944005785036\n",
      "|epoch 122| iter10/10|loss 0.31740678359577434\n",
      "|epoch 123| iter10/10|loss 0.30558094499258287\n",
      "|epoch 124| iter10/10|loss 0.313067432203768\n",
      "|epoch 125| iter10/10|loss 0.30018221283884183\n",
      "|epoch 126| iter10/10|loss 0.2987418925474238\n",
      "|epoch 127| iter10/10|loss 0.2838029470706273\n",
      "|epoch 128| iter10/10|loss 0.2811840756517867\n",
      "|epoch 129| iter10/10|loss 0.28183411256599306\n",
      "|epoch 130| iter10/10|loss 0.27771459938710974\n",
      "|epoch 131| iter10/10|loss 0.2723882569863483\n",
      "|epoch 132| iter10/10|loss 0.26707712316069954\n",
      "|epoch 133| iter10/10|loss 0.27094530362207125\n",
      "|epoch 134| iter10/10|loss 0.27057245386599754\n",
      "|epoch 135| iter10/10|loss 0.2703088597272766\n",
      "|epoch 136| iter10/10|loss 0.2643726010723016\n",
      "|epoch 137| iter10/10|loss 0.26378305542245917\n",
      "|epoch 138| iter10/10|loss 0.25605019939775364\n",
      "|epoch 139| iter10/10|loss 0.25215414498445626\n",
      "|epoch 140| iter10/10|loss 0.242911129344562\n",
      "|epoch 141| iter10/10|loss 0.23945524042724547\n",
      "|epoch 142| iter10/10|loss 0.24542262746858562\n",
      "|epoch 143| iter10/10|loss 0.23667537176990053\n",
      "|epoch 144| iter10/10|loss 0.24031931061928163\n",
      "|epoch 145| iter10/10|loss 0.23361288810496234\n",
      "|epoch 146| iter10/10|loss 0.236509631799112\n",
      "|epoch 147| iter10/10|loss 0.2302540765678646\n",
      "|epoch 148| iter10/10|loss 0.22932871901830207\n",
      "|epoch 149| iter10/10|loss 0.22401693146587257\n",
      "|epoch 150| iter10/10|loss 0.22394676535578745\n",
      "|epoch 151| iter10/10|loss 0.2231075781471304\n",
      "|epoch 152| iter10/10|loss 0.22264097958236584\n",
      "|epoch 153| iter10/10|loss 0.21697683471580692\n",
      "|epoch 154| iter10/10|loss 0.21755951288880993\n",
      "|epoch 155| iter10/10|loss 0.21507058662677142\n",
      "|epoch 156| iter10/10|loss 0.20835755321509958\n",
      "|epoch 157| iter10/10|loss 0.2091354478323928\n",
      "|epoch 158| iter10/10|loss 0.20480456033012642\n",
      "|epoch 159| iter10/10|loss 0.20860699412184824\n",
      "|epoch 160| iter10/10|loss 0.19815557489605246\n",
      "|epoch 161| iter10/10|loss 0.20435571889234483\n",
      "|epoch 162| iter10/10|loss 0.1972402074622856\n",
      "|epoch 163| iter10/10|loss 0.2119889840555726\n",
      "|epoch 164| iter10/10|loss 0.19990055286420483\n",
      "|epoch 165| iter10/10|loss 0.19670798433788012\n",
      "|epoch 166| iter10/10|loss 0.19493732434411776\n",
      "|epoch 167| iter10/10|loss 0.18861275602513147\n",
      "|epoch 168| iter10/10|loss 0.1871358291328788\n",
      "|epoch 169| iter10/10|loss 0.1859257170738781\n",
      "|epoch 170| iter10/10|loss 0.18837376894472496\n",
      "|epoch 171| iter10/10|loss 0.18999546718467414\n",
      "|epoch 172| iter10/10|loss 0.18273072019428158\n",
      "|epoch 173| iter10/10|loss 0.1844137020492214\n",
      "|epoch 174| iter10/10|loss 0.18330587406258356\n",
      "|epoch 175| iter10/10|loss 0.18023455480919787\n",
      "|epoch 176| iter10/10|loss 0.17511064852464459\n",
      "|epoch 177| iter10/10|loss 0.17767416217643667\n",
      "|epoch 178| iter10/10|loss 0.17668728636135794\n",
      "|epoch 179| iter10/10|loss 0.17293847154024716\n",
      "|epoch 180| iter10/10|loss 0.17328551329855013\n",
      "|epoch 181| iter10/10|loss 0.17653792738499433\n",
      "|epoch 182| iter10/10|loss 0.1728261261811141\n",
      "|epoch 183| iter10/10|loss 0.17626893090372214\n",
      "|epoch 184| iter10/10|loss 0.17434628901735755\n",
      "|epoch 185| iter10/10|loss 0.16949071085989292\n",
      "|epoch 186| iter10/10|loss 0.17755351335716013\n",
      "|epoch 187| iter10/10|loss 0.1728569569815346\n",
      "|epoch 188| iter10/10|loss 0.16648514397547962\n",
      "|epoch 189| iter10/10|loss 0.16594153132977602\n",
      "|epoch 190| iter10/10|loss 0.1693113995126338\n",
      "|epoch 191| iter10/10|loss 0.16301106121602332\n",
      "|epoch 192| iter10/10|loss 0.16958890572080493\n",
      "|epoch 193| iter10/10|loss 0.16190682431185194\n",
      "|epoch 194| iter10/10|loss 0.15939537909039864\n",
      "|epoch 195| iter10/10|loss 0.16286032857961993\n",
      "|epoch 196| iter10/10|loss 0.16124197360055162\n",
      "|epoch 197| iter10/10|loss 0.16364914579280607\n",
      "|epoch 198| iter10/10|loss 0.1527678767991844\n",
      "|epoch 199| iter10/10|loss 0.15970328019708876\n",
      "|epoch 200| iter10/10|loss 0.1574778285151795\n",
      "|epoch 201| iter10/10|loss 0.15467694220979328\n",
      "|epoch 202| iter10/10|loss 0.15693770655217223\n",
      "|epoch 203| iter10/10|loss 0.1554765278672734\n",
      "|epoch 204| iter10/10|loss 0.1539483405879824\n",
      "|epoch 205| iter10/10|loss 0.15758367150781283\n",
      "|epoch 206| iter10/10|loss 0.15348488267419605\n",
      "|epoch 207| iter10/10|loss 0.15446293102249137\n",
      "|epoch 208| iter10/10|loss 0.14767977186639963\n",
      "|epoch 209| iter10/10|loss 0.15141489293752317\n",
      "|epoch 210| iter10/10|loss 0.14935646270420966\n",
      "|epoch 211| iter10/10|loss 0.1517051939074469\n",
      "|epoch 212| iter10/10|loss 0.1475591778682619\n",
      "|epoch 213| iter10/10|loss 0.1478514574205584\n",
      "|epoch 214| iter10/10|loss 0.1451598062679799\n",
      "|epoch 215| iter10/10|loss 0.14678399383604515\n",
      "|epoch 216| iter10/10|loss 0.14388363320088388\n",
      "|epoch 217| iter10/10|loss 0.1425976866105935\n",
      "|epoch 218| iter10/10|loss 0.14555184796511356\n",
      "|epoch 219| iter10/10|loss 0.1392242223657279\n",
      "|epoch 220| iter10/10|loss 0.13730944343188078\n",
      "|epoch 221| iter10/10|loss 0.1441059884135265\n",
      "|epoch 222| iter10/10|loss 0.14050778228166338\n",
      "|epoch 223| iter10/10|loss 0.14224984249809627\n",
      "|epoch 224| iter10/10|loss 0.14254640666896873\n",
      "|epoch 225| iter10/10|loss 0.1366720238197908\n",
      "|epoch 226| iter10/10|loss 0.13659011900484866\n",
      "|epoch 227| iter10/10|loss 0.14251665205070407\n",
      "|epoch 228| iter10/10|loss 0.13608657183237485\n",
      "|epoch 229| iter10/10|loss 0.12909966921321353\n",
      "|epoch 230| iter10/10|loss 0.13883107120690064\n",
      "|epoch 231| iter10/10|loss 0.13142337073882104\n",
      "|epoch 232| iter10/10|loss 0.13594951747222717\n",
      "|epoch 233| iter10/10|loss 0.13429273376232018\n",
      "|epoch 234| iter10/10|loss 0.13144069789855428\n",
      "|epoch 235| iter10/10|loss 0.13148269177878152\n",
      "|epoch 236| iter10/10|loss 0.12860673738419173\n",
      "|epoch 237| iter10/10|loss 0.1353920486015731\n",
      "|epoch 238| iter10/10|loss 0.13223101774593132\n",
      "|epoch 239| iter10/10|loss 0.13134628823538042\n",
      "|epoch 240| iter10/10|loss 0.137815960534109\n",
      "|epoch 241| iter10/10|loss 0.13367286871605086\n",
      "|epoch 242| iter10/10|loss 0.12860547570667233\n",
      "|epoch 243| iter10/10|loss 0.12775015207856297\n",
      "|epoch 244| iter10/10|loss 0.13002243546645464\n",
      "|epoch 245| iter10/10|loss 0.13145974901706858\n",
      "|epoch 246| iter10/10|loss 0.12796605893873653\n",
      "|epoch 247| iter10/10|loss 0.1264343911330712\n",
      "|epoch 248| iter10/10|loss 0.13201041906408506\n",
      "|epoch 249| iter10/10|loss 0.12779009853793605\n",
      "|epoch 250| iter10/10|loss 0.1304032884799827\n",
      "|epoch 251| iter10/10|loss 0.1334845629544262\n",
      "|epoch 252| iter10/10|loss 0.12453963049125047\n",
      "|epoch 253| iter10/10|loss 0.12132675691111525\n",
      "|epoch 254| iter10/10|loss 0.12286008452064749\n",
      "|epoch 255| iter10/10|loss 0.12267013423577522\n",
      "|epoch 256| iter10/10|loss 0.12312488940516735\n",
      "|epoch 257| iter10/10|loss 0.12127839505918639\n",
      "|epoch 258| iter10/10|loss 0.1246732858459719\n",
      "|epoch 259| iter10/10|loss 0.1319570980321647\n",
      "|epoch 260| iter10/10|loss 0.12026657236516311\n",
      "|epoch 261| iter10/10|loss 0.12500316552637777\n",
      "|epoch 262| iter10/10|loss 0.12062063523861213\n",
      "|epoch 263| iter10/10|loss 0.11810798686866326\n",
      "|epoch 264| iter10/10|loss 0.1268155227103573\n",
      "|epoch 265| iter10/10|loss 0.11807400896605277\n",
      "|epoch 266| iter10/10|loss 0.12014005000495157\n",
      "|epoch 267| iter10/10|loss 0.11993006486808422\n",
      "|epoch 268| iter10/10|loss 0.11732517384704763\n",
      "|epoch 269| iter10/10|loss 0.11360477597904681\n",
      "|epoch 270| iter10/10|loss 0.11888250117808821\n",
      "|epoch 271| iter10/10|loss 0.11633511040515616\n",
      "|epoch 272| iter10/10|loss 0.11825391183559268\n",
      "|epoch 273| iter10/10|loss 0.11623703569727499\n",
      "|epoch 274| iter10/10|loss 0.12322514116418934\n",
      "|epoch 275| iter10/10|loss 0.1132633426127633\n",
      "|epoch 276| iter10/10|loss 0.11580125295481199\n",
      "|epoch 277| iter10/10|loss 0.1241852704745117\n",
      "|epoch 278| iter10/10|loss 0.11289494501453375\n",
      "|epoch 279| iter10/10|loss 0.11077561346473123\n",
      "|epoch 280| iter10/10|loss 0.11431217925067254\n",
      "|epoch 281| iter10/10|loss 0.11427378474471336\n",
      "|epoch 282| iter10/10|loss 0.11731530918730079\n",
      "|epoch 283| iter10/10|loss 0.11173984745596414\n",
      "|epoch 284| iter10/10|loss 0.11382437328275703\n",
      "|epoch 285| iter10/10|loss 0.11354569974260229\n",
      "|epoch 286| iter10/10|loss 0.11082773737319437\n",
      "|epoch 287| iter10/10|loss 0.11235645391470031\n",
      "|epoch 288| iter10/10|loss 0.11698939249450464\n",
      "|epoch 289| iter10/10|loss 0.1139478128985986\n",
      "|epoch 290| iter10/10|loss 0.11472703869653127\n",
      "|epoch 291| iter10/10|loss 0.1119517943978245\n",
      "|epoch 292| iter10/10|loss 0.11252714425363779\n",
      "|epoch 293| iter10/10|loss 0.11019011632052722\n",
      "|epoch 294| iter10/10|loss 0.11147947028025722\n",
      "|epoch 295| iter10/10|loss 0.11578316334144997\n",
      "|epoch 296| iter10/10|loss 0.110222826957397\n",
      "|epoch 297| iter10/10|loss 0.1196684981477693\n",
      "|epoch 298| iter10/10|loss 0.11160268411696479\n",
      "|epoch 299| iter10/10|loss 0.10668719692739766\n",
      "|epoch 300| iter10/10|loss 0.10854954795724314\n"
     ]
    }
   ],
   "source": [
    "#学習で使用する変数\n",
    "data_size = len(x)\n",
    "max_iters = data_size//batch_size\n",
    "total_loss = 0\n",
    "loss_count = 0\n",
    "loss_list = []\n",
    "for epoch in range(max_epoch):\n",
    "    idx = np.random.permutation(data_size)\n",
    "    x = x[idx]\n",
    "    t = t[idx]\n",
    "\n",
    "    for iters in range(max_iters):\n",
    "        batch_x = x[iters*batch_size:(iters+1)*batch_size]\n",
    "        batch_t = t[iters*batch_size:(iters+1)*batch_size]\n",
    "        #勾配を求めパラメータを更新\n",
    "        loss = model.forward(batch_x, batch_t)\n",
    "        model.backward()\n",
    "        optimizer.update(model.params, model.grads)\n",
    "\n",
    "        total_loss += loss\n",
    "        loss_count += 1\n",
    "\n",
    "        #定期的に学習結果を出力\n",
    "        if(iters+1) %10==0:\n",
    "            avg_loss = total_loss/loss_count\n",
    "            print(f'|epoch {epoch+1}| iter{iters+1}/{max_iters}|loss {avg_loss}')\n",
    "            loss_list.append(avg_loss)\n",
    "            total_loss, loss_count = 0, 0"
   ]
  },
  {
   "cell_type": "code",
   "execution_count": 60,
   "metadata": {},
   "outputs": [
    {
     "data": {
      "text/plain": [
       "[<matplotlib.lines.Line2D at 0x12d5d75e0>]"
      ]
     },
     "execution_count": 60,
     "metadata": {},
     "output_type": "execute_result"
    },
    {
     "data": {
      "image/png": "[encoded data removed]",
      "text/plain": [
       "<Figure size 432x288 with 1 Axes>"
      ]
     },
     "metadata": {
      "needs_background": "light"
     },
     "output_type": "display_data"
    }
   ],
   "source": [
    "plt.plot(loss_list)"
   ]
  },
  {
   "cell_type": "markdown",
   "metadata": {},
   "source": []
  }
 ],
 "metadata": {
  "kernelspec": {
   "display_name": "Python 3",
   "language": "python",
   "name": "python3"
  },
  "language_info": {
   "codemirror_mode": {
    "name": "ipython",
    "version": 3
   },
   "file_extension": ".py",
   "mimetype": "text/x-python",
   "name": "python",
   "nbconvert_exporter": "python",
   "pygments_lexer": "ipython3",
   "version": "3.9.11"
  }
 },
 "nbformat": 4,
 "nbformat_minor": 2
}
